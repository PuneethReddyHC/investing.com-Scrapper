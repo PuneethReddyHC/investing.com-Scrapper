{
 "cells": [
  {
   "cell_type": "code",
   "execution_count": 45,
   "metadata": {
    "collapsed": false
   },
   "outputs": [
    {
     "name": "stderr",
     "output_type": "stream",
     "text": [
      "INFO:bokeh.core.state:Session output file 'candlestick.html' already exists, will be overwritten.\n",
      "/home/metal-machine/anaconda2/lib/python2.7/site-packages/bokeh/util/deprecation.py:34: BokehDeprecationWarning: Setting Plot property 'title' using a string was deprecated in 0.12.0,\n",
      "            and will be removed. The title is now an object on Plot (which holds all of it's\n",
      "            styling properties). Please use Plot.title.text instead.\n",
      "\n",
      "            SERVER USERS: If you were using plot.title to have the server update the plot title\n",
      "            in a callback, you MUST update to plot.title.text as the title object cannot currently\n",
      "            be replaced after initialization.\n",
      "            \n",
      "  warn(message)\n",
      "WARNING:/home/metal-machine/anaconda2/lib/python2.7/site-packages/bokeh/core/validation/check.pyc:W-1005 (SNAPPED_TOOLBAR_ANNOTATIONS): Snapped toolbars and annotations on the same side MAY overlap visually: Figure(id='5cb57440-0e75-4ac6-9fc2-fdd8b48f464c', ...)\n",
      "WARNING:/home/metal-machine/anaconda2/lib/python2.7/site-packages/bokeh/core/validation/check.pyc:W-1005 (SNAPPED_TOOLBAR_ANNOTATIONS): Snapped toolbars and annotations on the same side MAY overlap visually: Figure(id='d5fa7140-113a-47f8-9cc0-41b6a4c37a27', ...)\n",
      "WARNING:/home/metal-machine/anaconda2/lib/python2.7/site-packages/bokeh/core/validation/check.pyc:W-1005 (SNAPPED_TOOLBAR_ANNOTATIONS): Snapped toolbars and annotations on the same side MAY overlap visually: Figure(id='0a591f00-e067-426b-8dc3-1e5fd70eb6e1', ...)\n",
      "WARNING:/home/metal-machine/anaconda2/lib/python2.7/site-packages/bokeh/core/validation/check.pyc:W-1005 (SNAPPED_TOOLBAR_ANNOTATIONS): Snapped toolbars and annotations on the same side MAY overlap visually: Figure(id='f4491887-f838-4f31-9633-0f6f81b08125', ...)\n"
     ]
    }
   ],
   "source": [
    "from math import pi\n",
    "import pandas as pd\n",
    "from bokeh.sampledata.stocks import MSFT\n",
    "from bokeh.plotting import figure, show, output_file\n",
    "import sqlite3\n",
    "import pandas as pd\n",
    "\n",
    "\n",
    "cnx = sqlite3.connect('/home/metal-machine/Desktop/mydb4')\n",
    "\n",
    "df = pd.read_sql_query(\"SELECT * FROM ohlc_table\", cnx)\n",
    "df.head()\n",
    "\n",
    "df[\"date\"] = pd.to_datetime(df[\"date\"])\n",
    "\n",
    "mids = (df.open_price + df.close_price)/2\n",
    "\n",
    "spans = abs(df.close_price-df.open_price)\n",
    "\n",
    "#boolean value\n",
    "inc = df.close_price > df.open_price\n",
    "dec = df.open_price > df.close_price\n",
    "w = 12*60*60*1000 \n",
    "output_file(\"candlestick.html\", title=\"candlestick.py example\")\n",
    "TOOLS = \"pan,wheel_zoom,box_zoom,reset,save,hover,crosshair,zoom_out,\\\n",
    "xzoom_out,yzoom_out,redo,undo,wheel_zoom,xwheel_zoom, ywheel_zoom\"\n",
    "p = figure(x_axis_type=\"datetime\", tools=TOOLS, plot_width=1000, toolbar_location=\"right\")\n",
    "p.segment(df.date, df.high_price, df.date, df.low_price, color=\"black\")\n",
    "p.rect(df.date[inc], mids[inc], w, spans[inc], fill_color=\"#D5E1DD\", line_color=\"black\")\n",
    "p.rect(df.date[dec], mids[dec], w, spans[dec], fill_color=\"#F2100E\", line_color=\"blue\")\n",
    "p.title = \"MSFT Candlestick\"\n",
    "p.xaxis.major_label_orientation = pi/4\n",
    "p.grid.grid_line_alpha=0.3\n",
    "show(p)"
   ]
  },
  {
   "cell_type": "code",
   "execution_count": 11,
   "metadata": {
    "collapsed": false
   },
   "outputs": [
    {
     "name": "stderr",
     "output_type": "stream",
     "text": [
      "INFO:bokeh.core.state:Session output file 'candlestick.html' already exists, will be overwritten.\n",
      "/home/metal-machine/anaconda2/lib/python2.7/site-packages/bokeh/util/deprecation.py:34: BokehDeprecationWarning: Setting Plot property 'title' using a string was deprecated in 0.12.0,\n",
      "            and will be removed. The title is now an object on Plot (which holds all of it's\n",
      "            styling properties). Please use Plot.title.text instead.\n",
      "\n",
      "            SERVER USERS: If you were using plot.title to have the server update the plot title\n",
      "            in a callback, you MUST update to plot.title.text as the title object cannot currently\n",
      "            be replaced after initialization.\n",
      "            \n",
      "  warn(message)\n",
      "WARNING:/home/metal-machine/anaconda2/lib/python2.7/site-packages/bokeh/core/validation/check.pyc:W-1005 (SNAPPED_TOOLBAR_ANNOTATIONS): Snapped toolbars and annotations on the same side MAY overlap visually: Figure(id='5cb57440-0e75-4ac6-9fc2-fdd8b48f464c', ...)\n",
      "WARNING:/home/metal-machine/anaconda2/lib/python2.7/site-packages/bokeh/core/validation/check.pyc:W-1005 (SNAPPED_TOOLBAR_ANNOTATIONS): Snapped toolbars and annotations on the same side MAY overlap visually: Figure(id='d5fa7140-113a-47f8-9cc0-41b6a4c37a27', ...)\n"
     ]
    }
   ],
   "source": [
    "import sqlite3\n",
    "import pandas as pd\n",
    "# Create your connection.\n",
    "cnx = sqlite3.connect('/home/metal-machine/Desktop/mydb4')\n",
    "\n",
    "df = pd.read_sql_query(\"SELECT * FROM ohlc_table\", cnx)\n",
    "df.head()\n",
    "\n",
    "df[\"date\"] = pd.to_datetime(df[\"date\"])\n",
    "\n",
    "mids = (df.open_price + df.close_price)/2\n",
    "\n",
    "spans = abs(df.close_price-df.open_price)\n",
    "\n",
    "inc = df.close_price > df.open_price\n",
    "dec = df.open_price > df.close_price\n",
    "w = 12*60*60*1000 # half day in ms\n",
    "\n",
    "output_file(\"candlestick.html\", title=\"candlestick.py example\")\n",
    "\n",
    "TOOLS = \"pan,wheel_zoom,box_zoom,reset,save\"\n",
    "\n",
    "p = figure(x_axis_type=\"datetime\", tools=TOOLS, plot_width=1000, toolbar_location=\"left\")\n",
    "\n",
    "p.segment(df.date, df.high_price, df.date, df.low_price, color=\"black\")\n",
    "p.rect(df.date[inc], mids[inc], w, spans[inc], fill_color=\"#D5E1DD\", line_color=\"black\")\n",
    "p.rect(df.date[dec], mids[dec], w, spans[dec], fill_color=\"#F2583E\", line_color=\"black\")\n",
    "\n",
    "p.title = \"MSFT Candlestick\"\n",
    "p.xaxis.major_label_orientation = pi/4\n",
    "p.grid.grid_line_alpha=0.3\n",
    "\n",
    "show(p)  # open a browser\n"
   ]
  },
  {
   "cell_type": "code",
   "execution_count": null,
   "metadata": {
    "collapsed": true
   },
   "outputs": [],
   "source": []
  }
 ],
 "metadata": {
  "kernelspec": {
   "display_name": "Python 2",
   "language": "python",
   "name": "python2"
  },
  "language_info": {
   "codemirror_mode": {
    "name": "ipython",
    "version": 2
   },
   "file_extension": ".py",
   "mimetype": "text/x-python",
   "name": "python",
   "nbconvert_exporter": "python",
   "pygments_lexer": "ipython2",
   "version": "2.7.13"
  }
 },
 "nbformat": 4,
 "nbformat_minor": 2
}
